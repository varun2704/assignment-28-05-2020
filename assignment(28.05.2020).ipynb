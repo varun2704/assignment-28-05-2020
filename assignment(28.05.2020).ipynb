{
 "cells": [
  {
   "cell_type": "code",
   "execution_count": 5,
   "metadata": {},
   "outputs": [
    {
     "name": "stdout",
     "output_type": "stream",
     "text": [
      "enter a stringpython$11\n",
      "Total number of vowel and consonant are\n",
      "1\n",
      "5\n",
      "3\n"
     ]
    }
   ],
   "source": [
    "##Q.1\n",
    "vcount = 0;  \n",
    "ccount = 0;  \n",
    "scount=0\n",
    "str = input(\"enter a string\") \n",
    "for i in range(0,len(str)):   \n",
    "     \n",
    "    if str[i] in ('a',\"e\",\"i\",\"o\",\"u\"):  \n",
    "        vcount = vcount + 1;  \n",
    "    elif (str[i] >= 'a' and str[i] <= 'z'):  \n",
    "        ccount = ccount + 1;  \n",
    "    else:\n",
    "        scount=scount+1;\n",
    "print(\"Total number of vowel and consonant are\" );  \n",
    "print(vcount);  \n",
    "print(ccount);  \n",
    "print(scount);"
   ]
  },
  {
   "cell_type": "code",
   "execution_count": 4,
   "metadata": {},
   "outputs": [
    {
     "name": "stdout",
     "output_type": "stream",
     "text": [
      "enter a stringabbaaccbbaaa\n",
      "2\n"
     ]
    }
   ],
   "source": [
    "##Q.2\n",
    "s=input(\"enter a string\")\n",
    "print(s.count('aa'))"
   ]
  },
  {
   "cell_type": "code",
   "execution_count": 1,
   "metadata": {},
   "outputs": [
    {
     "name": "stdout",
     "output_type": "stream",
     "text": [
      "enter a string((()))()\n",
      "4\n"
     ]
    }
   ],
   "source": [
    "##Q.3\n",
    "s=input(\"enter a string\")\n",
    "print(s.count('('))"
   ]
  },
  {
   "cell_type": "code",
   "execution_count": 6,
   "metadata": {},
   "outputs": [
    {
     "name": "stdout",
     "output_type": "stream",
     "text": [
      "enter a stringAppli123cation456 \n",
      "21\n"
     ]
    }
   ],
   "source": [
    "##Q.7\n",
    "s=input('enter a string')\n",
    "sum=0\n",
    "for i in s:\n",
    "    if i.isdigit()==True:\n",
    "        z=int(i)\n",
    "        sum=sum+z\n",
    "        \n",
    "        \n",
    "print(sum)"
   ]
  },
  {
   "cell_type": "code",
   "execution_count": 7,
   "metadata": {},
   "outputs": [
    {
     "name": "stdout",
     "output_type": "stream",
     "text": [
      "enter a integer0.85\n",
      "B\n"
     ]
    }
   ],
   "source": [
    "##Q.8\n",
    "n=float(input(\"enter a integer\"))\n",
    "if n>=0.9:\n",
    "    print('A')\n",
    "elif n>=0.8 and n<0.9:\n",
    "    print(\"B\")\n",
    "elif n>=0.7 and n<0.8:\n",
    "    print('C')\n",
    "elif n>=0.6 and n<0.7:\n",
    "    print('D')\n",
    "elif n<0.6:\n",
    "    print('F')\n",
    "else:\n",
    "    print('error')"
   ]
  },
  {
   "cell_type": "code",
   "execution_count": 15,
   "metadata": {},
   "outputs": [
    {
     "name": "stdout",
     "output_type": "stream",
     "text": [
      "fizzbuzz\n",
      "1\n",
      "2\n",
      "fizz\n",
      "4\n",
      "buzz\n",
      "fizz\n",
      "7\n",
      "8\n",
      "fizz\n",
      "buzz\n",
      "11\n",
      "fizz\n",
      "13\n",
      "14\n",
      "fizzbuzz\n",
      "16\n",
      "17\n",
      "fizz\n",
      "19\n",
      "buzz\n",
      "fizz\n",
      "22\n",
      "23\n",
      "fizz\n",
      "buzz\n",
      "26\n",
      "fizz\n",
      "28\n",
      "29\n",
      "fizzbuzz\n",
      "31\n",
      "32\n",
      "fizz\n",
      "34\n",
      "buzz\n",
      "fizz\n",
      "37\n",
      "38\n",
      "fizz\n",
      "buzz\n",
      "41\n",
      "fizz\n",
      "43\n",
      "44\n",
      "fizzbuzz\n",
      "46\n",
      "47\n",
      "fizz\n",
      "49\n",
      "buzz\n"
     ]
    }
   ],
   "source": [
    "##Q.9\n",
    "for i in range(0,51):\n",
    "    if i%3==0 and i%5==0:\n",
    "        print(\"fizzbuzz\")\n",
    "    elif i%3==0:\n",
    "        print(\"fizz\")\n",
    "    elif i%5==0:\n",
    "        print('buzz')\n",
    "    else:\n",
    "        print(i)\n",
    "    \n",
    "        "
   ]
  },
  {
   "cell_type": "code",
   "execution_count": 16,
   "metadata": {},
   "outputs": [
    {
     "name": "stdout",
     "output_type": "stream",
     "text": [
      "enter 1st  number15\n",
      "enter 2nd  number29\n",
      "enter 3rd  number26\n",
      "The median is 26\n"
     ]
    }
   ],
   "source": [
    "##Q.10\n",
    "n1=int(input(\"enter 1st  number\"))\n",
    "n2=int(input(\"enter 2nd  number\"))\n",
    "n3=int(input(\"enter 3rd  number\"))\n",
    "if n1 > n2:\n",
    "    if n1 < n3:\n",
    "        median = n1\n",
    "    elif n2 > n2:\n",
    "        median = n2\n",
    "    else:\n",
    "        median = n3\n",
    "else:\n",
    "    if n1 > n3:\n",
    "        median = n1\n",
    "    elif n2 < n3:\n",
    "        median = n2\n",
    "    else:\n",
    "        median = n3\n",
    "\n",
    "print(\"The median is\", median)"
   ]
  },
  {
   "cell_type": "code",
   "execution_count": 2,
   "metadata": {},
   "outputs": [
    {
     "name": "stdout",
     "output_type": "stream",
     "text": [
      "enter a1\n",
      "enter b100\n",
      "18\n"
     ]
    }
   ],
   "source": [
    "##Q.4\n",
    "\n",
    "a=int(input('enter a'))\n",
    "b=int(input('enter b'))\n",
    "count=0\n",
    "\n",
    "for i in range(a,b+1):\n",
    "    if str(i)==str(i)[::-1]:\n",
    "        count=count+1\n",
    "print(count)"
   ]
  },
  {
   "cell_type": "code",
   "execution_count": 1,
   "metadata": {},
   "outputs": [
    {
     "name": "stdout",
     "output_type": "stream",
     "text": [
      "127\n",
      "848 is a palindrome\n"
     ]
    }
   ],
   "source": [
    "##Q.5\n",
    "\n",
    "n=int(input())\n",
    "while True:\n",
    "    if str(n) == str(n)[::-1]:\n",
    "        print(str(n)[::-1],\"is a palindrome\")\n",
    "        break\n",
    "    else:\n",
    "        n+=int(str(n)[::-1])"
   ]
  },
  {
   "cell_type": "code",
   "execution_count": 2,
   "metadata": {},
   "outputs": [
    {
     "name": "stdout",
     "output_type": "stream",
     "text": [
      "enter a stringorange\n",
      "puboif"
     ]
    }
   ],
   "source": [
    "##Q.6\n",
    "\n",
    "s=str(input('enter a string'))\n",
    "vowel=['a','e','i','o','u']\n",
    "for i in s:\n",
    "    if i in vowel:\n",
    "        print(chr(ord(i)+1),end='')\n",
    "    elif (ord(i)>65 and ord(i)<69) or (ord(i)>97 and ord(i)<101):\n",
    "        print('e',end='')\n",
    "    elif (ord(i)>69 and ord(i)<73) or (ord(i)>101 and ord(i)<105):\n",
    "        print('i',end='')  \n",
    "    elif (ord(i)>73 and ord(i)<79) or (ord(i)>105 and ord(i)<111):\n",
    "        print('o',end='')\n",
    "    elif (ord(i)>79 and ord(i)<85) or (ord(i)>111 and ord(i)<117):\n",
    "        print('u',end='')\n",
    "    elif (ord(i)>85 and ord(i)<90) or (ord(i)>117 and ord(i)<122):\n",
    "        print('a',end='')"
   ]
  },
  {
   "cell_type": "code",
   "execution_count": null,
   "metadata": {},
   "outputs": [],
   "source": []
  }
 ],
 "metadata": {
  "kernelspec": {
   "display_name": "Python 3",
   "language": "python",
   "name": "python3"
  },
  "language_info": {
   "codemirror_mode": {
    "name": "ipython",
    "version": 3
   },
   "file_extension": ".py",
   "mimetype": "text/x-python",
   "name": "python",
   "nbconvert_exporter": "python",
   "pygments_lexer": "ipython3",
   "version": "3.7.6"
  }
 },
 "nbformat": 4,
 "nbformat_minor": 4
}
